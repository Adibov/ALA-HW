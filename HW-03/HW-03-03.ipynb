{
 "cells": [
  {
   "cell_type": "markdown",
   "id": "26def764",
   "metadata": {},
   "source": [
    "# Toeplitz Matrix\n",
    "In the following project, we will input two vectors of same size and make a [toeplitz matrix](https://en.wikipedia.org/wiki/Toeplitz_matrix) by them in the following format:\n",
    "\n",
    "```\n",
    "c = [c1, c2, ..., cn]\n",
    "v = [v1, v2, ..., vn]\n",
    "\n",
    "Toeplitz_Matriz(c, v) = [\n",
    "    [c1, r2, r3, ..., rn],\n",
    "    [c2, c1, r2, ..., r(n-1)],\n",
    "    ...\n",
    "    [cn, c(n-1), ..., c1]\n",
    "]\n",
    "```"
   ]
  },
  {
   "cell_type": "markdown",
   "id": "0478cbd6",
   "metadata": {},
   "source": [
    "## Import required libraries"
   ]
  },
  {
   "cell_type": "code",
   "execution_count": 1,
   "id": "2c95154c",
   "metadata": {},
   "outputs": [],
   "source": [
    "import matplotlib.pyplot as plt\n",
    "import matplotlib.image as mpimg\n",
    "import numpy as np"
   ]
  },
  {
   "cell_type": "markdown",
   "id": "f95d20ac",
   "metadata": {},
   "source": [
    "## Get Input and Construct Matrix\n",
    "By getting two vectors `v`, `c` we can construct the corresponding matrix by iterating over elements in the matrix."
   ]
  },
  {
   "cell_type": "code",
   "execution_count": 14,
   "id": "8e43629e",
   "metadata": {},
   "outputs": [
    {
     "name": "stdout",
     "output_type": "stream",
     "text": [
      "Enter the 1-th element of vector: 5\n",
      "Enter the 2-th element of vector: -1\n",
      "Enter the 3-th element of vector: 0\n",
      "Enter the 4-th element of vector: 6\n",
      "Enter the 5-th element of vector: 8\n",
      "Enter the 1-th element of vector: 12\n",
      "Enter the 2-th element of vector: 8\n",
      "Enter the 3-th element of vector: -9\n",
      "Enter the 4-th element of vector: 4\n",
      "Enter the 5-th element of vector: -2\n",
      "[ 5. -1.  0.  6.  8.]\n",
      "[12.  8. -9.  4. -2.]\n"
     ]
    }
   ],
   "source": [
    "def get_vector_of_size_n(n):\n",
    "    result = np.zeros([n])\n",
    "    for i in range(n):\n",
    "        print(f'Enter the {i + 1}-th element of vector: ', end='')\n",
    "        result[i] = int(input())\n",
    "    return result\n",
    "\n",
    "C = get_vector_of_size_n(5)\n",
    "V = get_vector_of_size_n(5)\n",
    "print(C)\n",
    "print(V)"
   ]
  },
  {
   "cell_type": "code",
   "execution_count": 35,
   "id": "5c248f4e",
   "metadata": {},
   "outputs": [
    {
     "name": "stdout",
     "output_type": "stream",
     "text": [
      "[[ 5.  8. -9.  4. -2.]\n",
      " [-1.  5.  8. -9.  4.]\n",
      " [ 0. -1.  5.  8. -9.]\n",
      " [ 6.  0. -1.  5.  8.]\n",
      " [ 8.  6.  0. -1.  5.]]\n"
     ]
    }
   ],
   "source": [
    "def construct_toeplitz_matrix(C, V):\n",
    "    if C.shape[0] != V.shape[0]:\n",
    "        raise AssertionError('length of C and V must be the same.')\n",
    "        \n",
    "    n = C.shape[0]\n",
    "    result = np.zeros([n, n])\n",
    "    for i in range(n):\n",
    "        for j in range(n):\n",
    "            if i >= j:\n",
    "                result[i][j] = C[i - j]\n",
    "            else:\n",
    "                result[i][j] = V[j - i]\n",
    "    return result\n",
    "toeplitz_matrix = construct_toeplitz_matrix(C, V)\n",
    "print(toeplitz_matrix)"
   ]
  },
  {
   "cell_type": "markdown",
   "id": "cd0c895a",
   "metadata": {},
   "source": [
    "## Compute Determinant\n",
    "Compute an echelon form of the toeplitz matrix and update determinant when using elementary operations."
   ]
  },
  {
   "cell_type": "code",
   "execution_count": 42,
   "id": "4efb9333",
   "metadata": {},
   "outputs": [
    {
     "name": "stdout",
     "output_type": "stream",
     "text": [
      "[[ 5.00000000e+00  8.00000000e+00 -9.00000000e+00  4.00000000e+00\n",
      "  -2.00000000e+00]\n",
      " [ 0.00000000e+00 -3.30000000e+01 -3.10000000e+01  4.10000000e+01\n",
      "  -1.80000000e+01]\n",
      " [ 0.00000000e+00  0.00000000e+00  1.96000000e+02  2.23000000e+02\n",
      "  -2.79000000e+02]\n",
      " [ 0.00000000e+00  0.00000000e+00  2.84217094e-14 -3.45144928e+02\n",
      "   4.41859903e+02]\n",
      " [ 0.00000000e+00  0.00000000e+00 -2.84217094e-14  0.00000000e+00\n",
      "  -7.92392833e+01]]\n"
     ]
    },
    {
     "data": {
      "text/plain": [
       "-58900.0"
      ]
     },
     "execution_count": 42,
     "metadata": {},
     "output_type": "execute_result"
    }
   ],
   "source": [
    "PRECISION = \n",
    "\n",
    "def calculate_determinant_of_matrix(input_matrix):\n",
    "    A = input_matrix.copy() # to avoid changing the original matrix\n",
    "    determinant = 1\n",
    "    n = A.shape[0]\n",
    "    \n",
    "    for j in range(n): # the j-th column in j-th row will become a new leading entry\n",
    "        for i in range(j, n): # find a row with nonzero element in j-th column and swap it with current j-th row\n",
    "            if A[i][j] != 0:\n",
    "                for k in range(n):\n",
    "                    A[i][k], A[j][k] = A[j][k], A[i][k]\n",
    "                determinant *= -1 # swapping two lines will result in changing the sign of determinant\n",
    "                break\n",
    "        if A[j][j] == 0:\n",
    "            return 0 # there exists a zero element on the main diagonal when computing echelon form\n",
    "            \n",
    "        for i in range(j + 1, n): # to make (j, j) element a leading entry, make all below elements zero\n",
    "            if A[i][j] == 0: # this row doesn't need to be scaled\n",
    "                continue\n",
    "                \n",
    "            # all elements in this row must be multiply by row_coefficient factor and subtracted\n",
    "            # by element in same column and j-th row. also determinant must be multiplied by 1/row_coefficient\n",
    "            # because of elementary operation (multiplying one row by some value)\n",
    "            row_coefficient = A[j][j] / A[i][j]\n",
    "            determinant /= row_coefficient\n",
    "            for k in range(n):\n",
    "                A[i][k] = A[i][k] * row_coefficient - A[j][k]\n",
    "        \n",
    "    for i in range(n):\n",
    "        for j in range(n):\n",
    "            print(A[i][j].round(6))\n",
    "    # current matrix is in echelon form\n",
    "    for i in range(n):\n",
    "        determinant *= A[i][i]\n",
    "    return determinant.round(6)\n",
    "\n",
    "calculate_determinant_of_matrix(toeplitz_matrix)"
   ]
  }
 ],
 "metadata": {
  "kernelspec": {
   "display_name": "Python 3 (ipykernel)",
   "language": "python",
   "name": "python3"
  },
  "language_info": {
   "codemirror_mode": {
    "name": "ipython",
    "version": 3
   },
   "file_extension": ".py",
   "mimetype": "text/x-python",
   "name": "python",
   "nbconvert_exporter": "python",
   "pygments_lexer": "ipython3",
   "version": "3.9.7"
  }
 },
 "nbformat": 4,
 "nbformat_minor": 5
}

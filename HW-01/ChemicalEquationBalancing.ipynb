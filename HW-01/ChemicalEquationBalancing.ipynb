{
 "cells": [
  {
   "cell_type": "markdown",
   "id": "4f08d6db",
   "metadata": {},
   "source": [
    "# Chemical Equation Balancer\n",
    "\n",
    "The following code will compute the balanced form of the given chemical equation. The main purpose of this project is to get use to _numpy_ library and understanding the first use case of solving linear equations."
   ]
  },
  {
   "cell_type": "markdown",
   "id": "f7b2bc3b",
   "metadata": {},
   "source": [
    "## Import required libraries"
   ]
  },
  {
   "cell_type": "code",
   "execution_count": 14,
   "id": "c937df3c",
   "metadata": {},
   "outputs": [],
   "source": [
    "import numpy as np"
   ]
  },
  {
   "cell_type": "markdown",
   "id": "3db0d9df",
   "metadata": {},
   "source": [
    "## Get and Parse Inputs\n",
    "Get and parse inputs to a useable format. \n",
    "\n",
    "(In the following documentation, we will be describing the code using the following example:\n",
    "\n",
    "Input:\n",
    "```txt\n",
    "C H O\n",
    "C2 H6 + O2 -> C O2 + H2 O\n",
    "```\n",
    ")\n",
    "\n",
    "The following piece of code will parse the given inputs as follows:  \n",
    "   + _equation_elements_ = `['C', 'H', 'O']`\n",
    "   + _chemical_equation_ = `C2 H6 + O2 -> C O2 + H2 O`"
   ]
  },
  {
   "cell_type": "code",
   "execution_count": 121,
   "id": "41358125",
   "metadata": {
    "scrolled": false
   },
   "outputs": [],
   "source": [
    "def get_and_parse_inputs():\n",
    "    equation_elements = np.array(input().split())\n",
    "    chemical_equation = input()"
   ]
  },
  {
   "cell_type": "markdown",
   "id": "a936570a",
   "metadata": {},
   "source": [
    "## Methods for extracting coefficients\n",
    "The following methods, will extract coefficients from equation and construct the corresponding augmented matrix. The description of each method is as follows:\n",
    "\n",
    "+ __extract_elements_coefficients_from_mixture__:\n",
    "    + given available_elements (`['C', 'H', 'O']` in our example) and a mixture (like `C2 H6` for example), this method will compute and return the coeffient for each element in the given mixture. (will return `[2, 6, 0]` in above example)\n",
    "       \n",
    "       \n",
    "+ __extract_elements_coefficients_from_summation__:\n",
    "    + given available_elements (`['C', 'H', 'O']` in our example) and a summation (like `C2 H6 + O2` for example), this method will compute the coeffient for each mixture and append it as a new column to the result matrix. (will return `[[2, 0], [6, 0], [0, 2]]` in above example)\n"
   ]
  },
  {
   "cell_type": "code",
   "execution_count": 117,
   "id": "c8d73831",
   "metadata": {},
   "outputs": [],
   "source": [
    "def extract_elements_coefficients_from_mixture(available_elements, mixture):\n",
    "    mixture_elements = np.array(mixture.split())\n",
    "    element_count = dict.fromkeys(available_elements, 0)\n",
    "    for element in mixture_elements:\n",
    "        # given \"C5\", this will increase \"C\" element's count by 5\n",
    "        if len(element) > 1:\n",
    "            element_count[element[0]] += int(element[1])\n",
    "        else:\n",
    "            element_count[element[0]] += 1\n",
    "    \n",
    "    \n",
    "    result_coefficients = np.zeros(available_elements.size)\n",
    "    for index, element in enumerate(available_elements):\n",
    "        result_coefficients[index] = element_count[element]\n",
    "    return result_coefficients"
   ]
  },
  {
   "cell_type": "code",
   "execution_count": 118,
   "id": "bb25b4b4",
   "metadata": {
    "scrolled": false
   },
   "outputs": [],
   "source": [
    "def extract_elements_coefficients_from_summation(available_elements, summation, is_negative=False):\n",
    "    mixtures = np.array(summation.split('+'))\n",
    "    \n",
    "    for index, mixture in enumerate(mixtures):\n",
    "        mixture_coefficients = extract_elements_coefficients_from_mixture(available_elements, mixture)\n",
    "        if is_negative:\n",
    "            mixture_coefficients *= -1\n",
    "            \n",
    "        if index == 0:\n",
    "            result_coefficients = mixture_coefficients\n",
    "        else:\n",
    "            # this will append the computed coefficients (mixture_coefficients) \n",
    "            # as a new column to the current extracted matrix\n",
    "            result_coefficients = np.c_[result_coefficients, mixture_coefficients]\n",
    "            \n",
    "    return result_coefficients"
   ]
  },
  {
   "cell_type": "markdown",
   "id": "c0395663",
   "metadata": {},
   "source": [
    "## Constucting the augmented matrix\n",
    "\n",
    "+ __construct_augmented_matrix__:\n",
    "    + Construct the augmented matrix by calling _extextract_elements_coefficients_from_summation_ method for reactants and products and appending another column of zeros.\n",
    "    + In our example:\n",
    "        + _reactants_ = `C2 H6 + O2 `\n",
    "        + _products_ = ` C O2 + H2 O`\n",
    "        + will return `[[2, 0, -1, 0, 0], [6, 0, 0, -2, 0], [0, 2, -2, -1, 0]]`"
   ]
  },
  {
   "cell_type": "code",
   "execution_count": 120,
   "id": "772804be",
   "metadata": {},
   "outputs": [],
   "source": [
    "def construct_augmented_matrix(available_elements, equation):\n",
    "    reactants, products = equation.split('->')\n",
    "    reactants_matrix = extract_elements_coefficients_from_summation(available_elements, reactants)\n",
    "    products_matrix = extract_elements_coefficients_from_summation(available_elements, products, True)\n",
    "    return np.c_[reactants_matrix, products_matrix, np.zeros(available_elements.size)]"
   ]
  },
  {
   "cell_type": "markdown",
   "id": "204c96d9",
   "metadata": {},
   "source": [
    "## Compute echelon form\n",
    "\n",
    "Compute a echelon form of the augmented matrix."
   ]
  },
  {
   "cell_type": "code",
   "execution_count": null,
   "id": "9e04a133",
   "metadata": {},
   "outputs": [],
   "source": []
  }
 ],
 "metadata": {
  "kernelspec": {
   "display_name": "Python 3 (ipykernel)",
   "language": "python",
   "name": "python3"
  },
  "language_info": {
   "codemirror_mode": {
    "name": "ipython",
    "version": 3
   },
   "file_extension": ".py",
   "mimetype": "text/x-python",
   "name": "python",
   "nbconvert_exporter": "python",
   "pygments_lexer": "ipython3",
   "version": "3.9.7"
  }
 },
 "nbformat": 4,
 "nbformat_minor": 5
}

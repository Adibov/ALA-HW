{
 "cells": [
  {
   "cell_type": "markdown",
   "id": "1e9b2223",
   "metadata": {},
   "source": [
    "# Chemical Equation Balancer\n",
    "\n",
    "The following code will compute the balanced form of the given chemical equation. The main purpose of this project is to get use to _numpy_ library and understanding the first use case of solving linear equations."
   ]
  },
  {
   "cell_type": "markdown",
   "id": "8302e365",
   "metadata": {},
   "source": [
    "## Import required libraries"
   ]
  },
  {
   "cell_type": "code",
   "execution_count": 206,
   "id": "c937df3c",
   "metadata": {},
   "outputs": [],
   "source": [
    "import numpy as np"
   ]
  },
  {
   "cell_type": "markdown",
   "id": "3db0d9df",
   "metadata": {},
   "source": [
    "## Get and Parse Inputs\n",
    "Get and parse inputs to a useable format. \n",
    "\n",
    "(In the following documentation, we will be describing the code using the following example:\n",
    "\n",
    "Input:\n",
    "```\n",
    "C H O\n",
    "C2 H6 + O2 -> C O2 + H2 O\n",
    "```\n",
    ")\n",
    "\n",
    "The following piece of code will parse the given inputs as follows:  \n",
    "   + _equation_elements_ = `['C', 'H', 'O']`\n",
    "   + _chemical_equation_ = `C2 H6 + O2 -> C O2 + H2 O`"
   ]
  },
  {
   "cell_type": "code",
   "execution_count": 179,
   "id": "41358125",
   "metadata": {
    "scrolled": false
   },
   "outputs": [],
   "source": [
    "def get_and_parse_inputs():\n",
    "    equation_elements = np.array(input().split())\n",
    "    chemical_equation = input()\n",
    "    return equation_elements, chemical_equation"
   ]
  },
  {
   "cell_type": "markdown",
   "id": "80505803",
   "metadata": {},
   "source": [
    "## Methods for extracting coefficients\n",
    "The following methods, will extract coefficients from equation and construct the corresponding augmented matrix. The description of each method is as follows:\n",
    "\n",
    "+ __extract_elements_coefficients_from_mixture__:\n",
    "    + given available_elements (`['C', 'H', 'O']` in our example) and a mixture (like `C2 H6` for example), this method will compute and return the coeffient for each element in the given mixture. (will return `[2, 6, 0]` in above example)\n",
    "       \n",
    "       \n",
    "+ __extract_elements_coefficients_from_summation__:\n",
    "    + given available_elements (`['C', 'H', 'O']` in our example) and a summation (like `C2 H6 + O2` for example), this method will compute the coeffient for each mixture and append it as a new column to the result matrix. (will return `[[2, 0], [6, 0], [0, 2]]` in above example)\n"
   ]
  },
  {
   "cell_type": "code",
   "execution_count": 168,
   "id": "c8d73831",
   "metadata": {},
   "outputs": [],
   "source": [
    "def extract_elements_coefficients_from_mixture(available_elements, mixture):\n",
    "    mixture_elements = np.array(mixture.split())\n",
    "    element_count = dict.fromkeys(available_elements, 0)\n",
    "    for element in mixture_elements:\n",
    "        # given \"C5\", this will increase \"C\" element's count by 5\n",
    "        if len(element) > 1:\n",
    "            element_count[element[0]] += int(element[1])\n",
    "        else:\n",
    "            element_count[element[0]] += 1\n",
    "    \n",
    "    \n",
    "    result_coefficients = np.zeros(available_elements.size)\n",
    "    for index, element in enumerate(available_elements):\n",
    "        result_coefficients[index] = element_count[element]\n",
    "    return result_coefficients"
   ]
  },
  {
   "cell_type": "code",
   "execution_count": 118,
   "id": "bb25b4b4",
   "metadata": {
    "scrolled": false
   },
   "outputs": [],
   "source": [
    "def extract_elements_coefficients_from_summation(available_elements, summation, is_negative=False):\n",
    "    mixtures = np.array(summation.split('+'))\n",
    "    \n",
    "    for index, mixture in enumerate(mixtures):\n",
    "        mixture_coefficients = extract_elements_coefficients_from_mixture(available_elements, mixture)\n",
    "        if is_negative:\n",
    "            mixture_coefficients *= -1\n",
    "            \n",
    "        if index == 0:\n",
    "            result_coefficients = mixture_coefficients\n",
    "        else:\n",
    "            # this will append the computed coefficients (mixture_coefficients) \n",
    "            # as a new column to the current extracted matrix\n",
    "            result_coefficients = np.c_[result_coefficients, mixture_coefficients]\n",
    "            \n",
    "    return result_coefficients"
   ]
  },
  {
   "cell_type": "markdown",
   "id": "2e01741e",
   "metadata": {},
   "source": [
    "## Constucting the augmented matrix\n",
    "\n",
    "+ __construct_augmented_matrix__:\n",
    "    + Construct the augmented matrix by calling _extract_elements_coefficients_from_summation_ method for reactants and products and appending another column of zeros.\n",
    "    + In our example:\n",
    "        + _reactants_ = `C2 H6 + O2 `\n",
    "        + _products_ = ` C O2 + H2 O`\n",
    "        + will return `[[2, 0, -1, 0, 0], [6, 0, 0, -2, 0], [0, 2, -2, -1, 0]]`"
   ]
  },
  {
   "cell_type": "code",
   "execution_count": 120,
   "id": "772804be",
   "metadata": {},
   "outputs": [],
   "source": [
    "def construct_augmented_matrix(available_elements, equation):\n",
    "    reactants, products = equation.split('->')\n",
    "    reactants_matrix = extract_elements_coefficients_from_summation(available_elements, reactants)\n",
    "    products_matrix = extract_elements_coefficients_from_summation(available_elements, products, True)\n",
    "    return np.c_[reactants_matrix, products_matrix, np.zeros(available_elements.size)]"
   ]
  },
  {
   "cell_type": "markdown",
   "id": "d2ea35ff",
   "metadata": {},
   "source": [
    "## Compute echelon form\n",
    "\n",
    "Compute a echelon form of the augmented matrix.\n",
    "\n",
    "+ __sort_matrix_rows_by_leading_entries__:\n",
    "    + Sort rows of the given matrix, in such a way that row _i1_ comes higher than _i2_ if the leading entry in _i1_ is further left than the leading entry in _i2_.\n",
    "    + In our example:\n",
    "        + _A_ = `[[2, 0, -1, 0, 0], [0, 0, 3, -2, 0], [0, 2, -2, -1, 0]]`\n",
    "        + will return `[[2, 0, -1, 0, 0], [0, 2, -2, -1, 0]], [0, 0, 3, -2, 0]`\n",
    "+ __compute_echelon_matrix__:\n",
    "    + Compute the echelon form of the given matrix in the following way. First sort rows by their leading entries, then choose first unchekced row and scale/subtract rows at below of that in such a way that after applying this operation, all entries below the leading entry in the current row will become zero. Then, mark the current row as checked and continue this algorithm until neither no unchecked row or leading entry's left.\n",
    "    + In our example:\n",
    "        + _A_ = `[[2, 0, -1, 0, 0], [0, 2, -2, -1, 0], [6, 0, 0, -2, 0]]`\n",
    "        + a probable output can be `[[2, 0, -1, 0, 0], [0, 2, -2, -1, 0]], [0, 0, 3, -2, 0]`"
   ]
  },
  {
   "cell_type": "code",
   "execution_count": 205,
   "id": "8ae10f9e",
   "metadata": {},
   "outputs": [],
   "source": [
    "def sort_matrix_rows_by_leading_entries(A):\n",
    "    assert len(A.shape) == 2\n",
    "    result = A.astype(np.float64)\n",
    "    \n",
    "    topmost_row = 0\n",
    "    for j in range(result.shape[1]):\n",
    "        for i in range(topmost_row, result.shape[0]):\n",
    "            if float(A[i, j]) != 0:\n",
    "                # swap current row with the first untouched row\n",
    "                result[[topmost_row, i]] = result[[i, topmost_row]]\n",
    "                topmost_row += 1\n",
    "                i -= 1\n",
    "    return result"
   ]
  },
  {
   "cell_type": "code",
   "execution_count": 204,
   "id": "1fa1d36f",
   "metadata": {},
   "outputs": [],
   "source": [
    "def compute_echelon_matrix(A):\n",
    "    assert len(A.shape) == 2\n",
    "    result = A.astype(np.float64)\n",
    "    \n",
    "    topmost_row = 0\n",
    "    for j in range(result.shape[1]):\n",
    "        result = sort_matrix_rows_by_leading_entries(result)\n",
    "        if float(result[topmost_row][j]) == 0:\n",
    "            # this row and all rows at below are 0 at this column\n",
    "            continue\n",
    "            \n",
    "        # leading entry at this column is set to be at topmost_row-th,\n",
    "        # so the rows at below must be scaled and then subtracted by current row\n",
    "        for i in range(topmost_row + 1, result.shape[0]):\n",
    "            if float(result[i][j]) == 0:\n",
    "                # this row and all rows at below are 0 at this column\n",
    "                break\n",
    "            \n",
    "            scaling_coefficient = result[topmost_row][j] / result[i][j]\n",
    "            for col in range(j, result.shape[1]):\n",
    "                # first scale the element, the subtract it by the candidate entry\n",
    "                result[i][col] *= scaling_coefficient\n",
    "                result[i][col] -= result[topmost_row][col]\n",
    "                \n",
    "        topmost_row += 1\n",
    "        if topmost_row == result.shape[0]:\n",
    "            break\n",
    "    return result"
   ]
  },
  {
   "cell_type": "markdown",
   "id": "fb4a314e",
   "metadata": {},
   "source": [
    "## Compute reduced echelon form\n",
    "Transform the computed echelon matrix to the reduced echelon form.\n",
    "\n",
    "+ __compute_reduced_echelon_form__:\n",
    "    + Compute the reduced echelon form of the given matrix. First it will construct an echelon form of the matrix using the _compute_echelon_matrix_ method and scale each row such that the leading entry in that row will become 1. Then from bottom to top, it will find an unchecked leading entry and scale/subtract rows at top of it so that all entries in the corresponding column except the one which is leading entry will become zero.\n",
    "    + In our example:\n",
    "        + _A_ = `[[2, 0, -1, 0, 0], [0, 0, 3, -2, 0], [0, 2, -2, -1, 0]]`\n",
    "        + will return `[[1, 0, 0, -0.33333333,  0], [0, 1, 0, -1.16666667, 0], [0, 0, 1, -0.66666667, 0]]`"
   ]
  },
  {
   "cell_type": "code",
   "execution_count": 182,
   "id": "88b97910",
   "metadata": {},
   "outputs": [],
   "source": [
    "def compute_reduced_echelon_form(A):\n",
    "    assert len(A.shape) == 2\n",
    "    result = compute_echelon_matrix(A)\n",
    "    \n",
    "    bottommost_row = result.shape[0] - 1\n",
    "    for j in range(result.shape[1] - 1, -1, -1):\n",
    "        if j > 0 and result[bottommost_row][j - 1] != 0:\n",
    "            continue\n",
    "        \n",
    "        # first scale the candidate row such that the leading entry in this row\n",
    "        # will become 1\n",
    "        scaling_coefficient = 1.0 / result[bottommost_row][j]\n",
    "        for col in range(j, result.shape[1]):\n",
    "            result[bottommost_row][col] *= scaling_coefficient\n",
    "        \n",
    "        # then subtract rows at top, such that all entries over the current leading entry\n",
    "        # become 0\n",
    "        for i in range(bottommost_row - 1, -1, -1):\n",
    "            if result[i][j] == 0:\n",
    "                continue\n",
    "                \n",
    "            scaling_coefficient = 1.0 / result[i][j]\n",
    "            for col in range(0, result.shape[1]):\n",
    "                result[i][col] = result[i][col] * scaling_coefficient - result[bottommost_row][col]\n",
    "\n",
    "        bottommost_row -= 1\n",
    "        if bottommost_row == -1:\n",
    "            break\n",
    "    return result"
   ]
  },
  {
   "cell_type": "markdown",
   "id": "0bb05a95",
   "metadata": {},
   "source": [
    "## Extract answers\n",
    "The final objective is to extract answers after computing reduced echelon matrix.\n",
    "\n",
    "+ __extract_answers_from_reduced_echelon_matrix__:\n",
    "    + Compute an arbitrary answer to the given reduced echelon form of matrix. The answer is made by assigning value of 1 to all free variables and calculating others by this hypothesis.\n",
    "    + In our example:\n",
    "        + _A_ = `[[1, 0, 0, -0.33333333,  0], [0, 1, 0, -1.16666667, 0], [0, 0, 1, -0.66666667, 0]]`\n",
    "        + will return `[0,]`"
   ]
  },
  {
   "cell_type": "code",
   "execution_count": 207,
   "id": "a8ecc911",
   "metadata": {},
   "outputs": [],
   "source": [
    "def extract_answers_from_reduced_echelon_matrix(A):\n",
    "    assert len(A.shape) == 2\n",
    "    result = np.ones(A.shape[1] - 1)\n",
    "    \n",
    "    for i in range(A.shape[0]):\n",
    "        leading_entry = 0\n",
    "        while leading_entry < A.shape[1] - 1 and A[i][leading_entry] == 0:\n",
    "            leading_entry += 1\n",
    "        if leading_entry == A.shape[1] - 1:\n",
    "            break\n",
    "        \n",
    "        result[leading_entry] = 0\n",
    "        for j in range(leading_entry + 1, A.shape[1] - 1):\n",
    "            result[leading_entry] -= A[i][j]\n",
    "        result[leading_entry] += A[i][A.shape[1] - 1]\n",
    "    return result"
   ]
  },
  {
   "cell_type": "markdown",
   "id": "b0e63780",
   "metadata": {},
   "source": [
    "## Wrap up the code\n",
    "Complete code by calling required predefined methods."
   ]
  },
  {
   "cell_type": "code",
   "execution_count": 213,
   "id": "c6845fd5",
   "metadata": {},
   "outputs": [
    {
     "name": "stdout",
     "output_type": "stream",
     "text": [
      "C H O\n",
      "C2 H6 + O2 -> C O2 + H2 O\n",
      "\n",
      "\n",
      "- Augmented matrix of the chemical coefficients: \n",
      " [[ 2.  0. -1. -0.  0.]\n",
      " [ 6.  0. -0. -2.  0.]\n",
      " [ 0.  2. -2. -1.  0.]]\n",
      "\n",
      "\n",
      "- Echelon form of the augmented matrix: \n",
      " [[ 2.          0.         -1.         -0.          0.        ]\n",
      " [ 0.          2.         -2.         -1.          0.        ]\n",
      " [ 0.          0.          1.         -0.66666667  0.        ]]\n",
      "\n",
      "\n",
      "- Reduced echelon form of the augmented matrix: \n",
      " [[ 1.          0.         -0.         -0.33333333  0.        ]\n",
      " [-0.          1.         -0.         -1.16666667  0.        ]\n",
      " [ 0.          0.          1.         -0.66666667  0.        ]]\n",
      "\n",
      "\n",
      "- One arbitrary answer to the chemical equation balancing:\n",
      "-- X1 = 0.3333333333333333\n",
      "-- X2 = 1.1666666666666665\n",
      "-- X3 = 0.6666666666666666\n",
      "-- X4 = 1.0\n"
     ]
    }
   ],
   "source": [
    "def run_chemical_equation_balancer():\n",
    "    equation_elements, chemical_equation = get_and_parse_inputs()\n",
    "    augmented_matrix = construct_augmented_matrix(equation_elements, chemical_equation)\n",
    "    echelon_matrix = compute_echelon_matrix(augmented_matrix)\n",
    "    reduced_echelon_matrix = compute_reduced_echelon_form(augmented_matrix)\n",
    "    answers = extract_answers_from_reduced_echelon_matrix(reduced_echelon_matrix)\n",
    "    \n",
    "    print(\"\\n\\n- Augmented matrix of the chemical coefficients: \\n\", augmented_matrix)\n",
    "    print(\"\\n\\n- Echelon form of the augmented matrix: \\n\", echelon_matrix)\n",
    "    print(\"\\n\\n- Reduced echelon form of the augmented matrix: \\n\", reduced_echelon_matrix)\n",
    "    print(\"\\n\\n- One arbitrary answer to the chemical equation balancing:\")\n",
    "    for i in range(len(answers)):\n",
    "        print('-- X' + str(i + 1) + \" = \" + str(answers[i]))\n",
    "\n",
    "run_chemical_equation_balancer()"
   ]
  }
 ],
 "metadata": {
  "kernelspec": {
   "display_name": "Python 3 (ipykernel)",
   "language": "python",
   "name": "python3"
  },
  "language_info": {
   "codemirror_mode": {
    "name": "ipython",
    "version": 3
   },
   "file_extension": ".py",
   "mimetype": "text/x-python",
   "name": "python",
   "nbconvert_exporter": "python",
   "pygments_lexer": "ipython3",
   "version": "3.9.7"
  }
 },
 "nbformat": 4,
 "nbformat_minor": 5
}
